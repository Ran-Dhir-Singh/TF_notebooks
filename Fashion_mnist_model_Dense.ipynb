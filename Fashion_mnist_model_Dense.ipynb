{
 "cells": [
  {
   "cell_type": "code",
   "execution_count": 97,
   "id": "f46a6da9",
   "metadata": {},
   "outputs": [],
   "source": [
    "import tensorflow as tf\n",
    "import numpy as np\n",
    "import matplotlib.pyplot as plt \n",
    "import pandas as pd\n",
    "\n",
    "import keras_tuner as kt"
   ]
  },
  {
   "cell_type": "markdown",
   "id": "97fb70da",
   "metadata": {},
   "source": [
    "### Using keras to load the mnist fashion dataset"
   ]
  },
  {
   "cell_type": "code",
   "execution_count": 3,
   "id": "c5cd5002",
   "metadata": {},
   "outputs": [
    {
     "name": "stdout",
     "output_type": "stream",
     "text": [
      "Downloading data from https://storage.googleapis.com/tensorflow/tf-keras-datasets/train-labels-idx1-ubyte.gz\n",
      "29515/29515 [==============================] - 0s 0us/step\n",
      "Downloading data from https://storage.googleapis.com/tensorflow/tf-keras-datasets/train-images-idx3-ubyte.gz\n",
      "26421880/26421880 [==============================] - 2s 0us/step\n",
      "Downloading data from https://storage.googleapis.com/tensorflow/tf-keras-datasets/t10k-labels-idx1-ubyte.gz\n",
      "5148/5148 [==============================] - 0s 0s/step\n",
      "Downloading data from https://storage.googleapis.com/tensorflow/tf-keras-datasets/t10k-images-idx3-ubyte.gz\n",
      "4422102/4422102 [==============================] - 0s 0us/step\n"
     ]
    }
   ],
   "source": [
    "fashion_mnist = tf.keras.datasets.fashion_mnist.load_data()"
   ]
  },
  {
   "cell_type": "code",
   "execution_count": 75,
   "id": "4528d32c",
   "metadata": {},
   "outputs": [],
   "source": [
    "(X_train_full, y_train_full), (X_test, y_test) = fashion_mnist"
   ]
  },
  {
   "cell_type": "code",
   "execution_count": 76,
   "id": "6a032a9d",
   "metadata": {},
   "outputs": [
    {
     "data": {
      "text/plain": [
       "((60000, 28, 28), (10000, 28, 28))"
      ]
     },
     "execution_count": 76,
     "metadata": {},
     "output_type": "execute_result"
    }
   ],
   "source": [
    "X_train_full.shape, X_test.shape"
   ]
  },
  {
   "cell_type": "code",
   "execution_count": 77,
   "id": "55718d91",
   "metadata": {},
   "outputs": [],
   "source": [
    "# Splitting data into training and validation datasets\n",
    "X_train, y_train = X_train_full[:-5000], y_train_full[:-5000]\n",
    "X_valid, y_valid = X_train_full[-5000:], y_train_full[-5000:]"
   ]
  },
  {
   "cell_type": "code",
   "execution_count": 78,
   "id": "83a361d9",
   "metadata": {},
   "outputs": [
    {
     "data": {
      "text/plain": [
       "((55000, 28, 28), (55000,), (5000, 28, 28), (5000,))"
      ]
     },
     "execution_count": 78,
     "metadata": {},
     "output_type": "execute_result"
    }
   ],
   "source": [
    "X_train.shape, y_train.shape, X_valid.shape, y_valid.shape"
   ]
  },
  {
   "cell_type": "code",
   "execution_count": 79,
   "id": "81ef59c2",
   "metadata": {},
   "outputs": [
    {
     "data": {
      "text/plain": [
       "dtype('uint8')"
      ]
     },
     "execution_count": 79,
     "metadata": {},
     "output_type": "execute_result"
    }
   ],
   "source": [
    "X_train.dtype"
   ]
  },
  {
   "cell_type": "code",
   "execution_count": 80,
   "id": "9fd2f0ad",
   "metadata": {},
   "outputs": [
    {
     "data": {
      "text/plain": [
       "array([  0,   0,   0,   1,   0,   0,   0,  49, 136, 219, 216, 228, 236,\n",
       "       255, 255, 255, 255, 217, 215, 254, 231, 160,  45,   0,   0,   0,\n",
       "         0,   0], dtype=uint8)"
      ]
     },
     "execution_count": 80,
     "metadata": {},
     "output_type": "execute_result"
    }
   ],
   "source": [
    "X_train[1][1]"
   ]
  },
  {
   "cell_type": "markdown",
   "id": "7ca5796e",
   "metadata": {},
   "source": [
    "#### Scaling the pixel values"
   ]
  },
  {
   "cell_type": "code",
   "execution_count": 81,
   "id": "d15d77fa",
   "metadata": {},
   "outputs": [],
   "source": [
    "X_train, X_valid, X_test = X_train/255.,X_valid/255., X_test/255."
   ]
  },
  {
   "cell_type": "code",
   "execution_count": 82,
   "id": "1abd1016",
   "metadata": {},
   "outputs": [
    {
     "data": {
      "text/plain": [
       "array([0.        , 0.        , 0.        , 0.00392157, 0.        ,\n",
       "       0.        , 0.        , 0.19215686, 0.53333333, 0.85882353,\n",
       "       0.84705882, 0.89411765, 0.9254902 , 1.        , 1.        ,\n",
       "       1.        , 1.        , 0.85098039, 0.84313725, 0.99607843,\n",
       "       0.90588235, 0.62745098, 0.17647059, 0.        , 0.        ,\n",
       "       0.        , 0.        , 0.        ])"
      ]
     },
     "execution_count": 82,
     "metadata": {},
     "output_type": "execute_result"
    }
   ],
   "source": [
    "X_train[1][1]"
   ]
  },
  {
   "cell_type": "code",
   "execution_count": 83,
   "id": "a0b21acf",
   "metadata": {},
   "outputs": [
    {
     "data": {
      "text/plain": [
       "((10000, 28, 28), (10000,))"
      ]
     },
     "execution_count": 83,
     "metadata": {},
     "output_type": "execute_result"
    }
   ],
   "source": [
    "X_test.shape, y_test.shape"
   ]
  },
  {
   "cell_type": "code",
   "execution_count": 70,
   "id": "7227b77d",
   "metadata": {},
   "outputs": [],
   "source": [
    "class_names = [\"T-shirt/top\",\"Trouser\",\"Pullover\",\"Dress\",\"Coat\",\"Sandal\",\"Shirt\",\"Sneaker\",\"Bag\",\"Ankle boot\"]"
   ]
  },
  {
   "cell_type": "code",
   "execution_count": 41,
   "id": "8f128b7e",
   "metadata": {},
   "outputs": [
    {
     "data": {
      "text/plain": [
       "'Pullover'"
      ]
     },
     "execution_count": 41,
     "metadata": {},
     "output_type": "execute_result"
    }
   ],
   "source": [
    "class_names[y_train[7]]"
   ]
  },
  {
   "cell_type": "code",
   "execution_count": 39,
   "id": "03638c6a",
   "metadata": {},
   "outputs": [
    {
     "data": {
      "text/plain": [
       "dtype('uint8')"
      ]
     },
     "execution_count": 39,
     "metadata": {},
     "output_type": "execute_result"
    }
   ],
   "source": [
    "y_train.dtype"
   ]
  },
  {
   "cell_type": "code",
   "execution_count": 44,
   "id": "ff725b59",
   "metadata": {},
   "outputs": [
    {
     "data": {
      "text/plain": [
       "<matplotlib.image.AxesImage at 0x1e2226d1280>"
      ]
     },
     "execution_count": 44,
     "metadata": {},
     "output_type": "execute_result"
    },
    {
     "data": {
      "image/png": "[encoded data removed]",
      "text/plain": [
       "<Figure size 640x480 with 1 Axes>"
      ]
     },
     "metadata": {},
     "output_type": "display_data"
    }
   ],
   "source": [
    "plt.imshow(X_train[7])"
   ]
  },
  {
   "cell_type": "markdown",
   "id": "e0ab2234",
   "metadata": {},
   "source": [
    "### Creating  a Model using sequential API"
   ]
  },
  {
   "cell_type": "code",
   "execution_count": 71,
   "id": "9a3952da",
   "metadata": {},
   "outputs": [
    {
     "data": {
      "text/plain": [
       "(28, 28)"
      ]
     },
     "execution_count": 71,
     "metadata": {},
     "output_type": "execute_result"
    }
   ],
   "source": [
    "INPUT_SIZE=X_train[1].shape\n",
    "INPUT_SIZE"
   ]
  },
  {
   "cell_type": "code",
   "execution_count": 48,
   "id": "c1b36b3d",
   "metadata": {},
   "outputs": [
    {
     "name": "stdout",
     "output_type": "stream",
     "text": [
      "Model: \"sequential_1\"\n",
      "_________________________________________________________________\n",
      " Layer (type)                Output Shape              Param #   \n",
      "=================================================================\n",
      " flatten_1 (Flatten)         (None, 784)               0         \n",
      "                                                                 \n",
      " dense_3 (Dense)             (None, 300)               235500    \n",
      "                                                                 \n",
      " dense_4 (Dense)             (None, 100)               30100     \n",
      "                                                                 \n",
      " dense_5 (Dense)             (None, 10)                1010      \n",
      "                                                                 \n",
      "=================================================================\n",
      "Total params: 266,610\n",
      "Trainable params: 266,610\n",
      "Non-trainable params: 0\n",
      "_________________________________________________________________\n"
     ]
    }
   ],
   "source": [
    "tf.random.set_seed(123)\n",
    "\n",
    "model_1 = tf.keras.Sequential([\n",
    "    tf.keras.layers.Flatten(input_shape = INPUT_SIZE),\n",
    "    tf.keras.layers.Dense(300, activation='relu'),\n",
    "    tf.keras.layers.Dense(100, activation='relu'),\n",
    "    tf.keras.layers.Dense(10, activation='softmax')\n",
    "])\n",
    "\n",
    "model_1.summary()"
   ]
  },
  {
   "cell_type": "code",
   "execution_count": 49,
   "id": "a308c1d8",
   "metadata": {},
   "outputs": [
    {
     "data": {
      "text/plain": [
       "[<keras.layers.reshaping.flatten.Flatten at 0x1e2226a4160>,\n",
       " <keras.layers.core.dense.Dense at 0x1e222707a30>,\n",
       " <keras.layers.core.dense.Dense at 0x1e222cf0eb0>,\n",
       " <keras.layers.core.dense.Dense at 0x1e222af4400>]"
      ]
     },
     "execution_count": 49,
     "metadata": {},
     "output_type": "execute_result"
    }
   ],
   "source": [
    "model_1.layers"
   ]
  },
  {
   "cell_type": "code",
   "execution_count": 50,
   "id": "1d58c04a",
   "metadata": {},
   "outputs": [],
   "source": [
    "model_1.compile(loss=\"sparse_categorical_crossentropy\",\n",
    "               optimizer=tf.keras.optimizers.Adam(),\n",
    "               metrics=['accuracy'])"
   ]
  },
  {
   "cell_type": "code",
   "execution_count": 51,
   "id": "82d5dd4c",
   "metadata": {},
   "outputs": [
    {
     "name": "stdout",
     "output_type": "stream",
     "text": [
      "Epoch 1/30\n",
      "1719/1719 [==============================] - 9s 5ms/step - loss: 0.4818 - accuracy: 0.8274 - val_loss: 0.3777 - val_accuracy: 0.8624\n",
      "Epoch 2/30\n",
      "1719/1719 [==============================] - 8s 5ms/step - loss: 0.3645 - accuracy: 0.8672 - val_loss: 0.3609 - val_accuracy: 0.8668\n",
      "Epoch 3/30\n",
      "1719/1719 [==============================] - 8s 5ms/step - loss: 0.3283 - accuracy: 0.8786 - val_loss: 0.3361 - val_accuracy: 0.8764\n",
      "Epoch 4/30\n",
      "1719/1719 [==============================] - 8s 5ms/step - loss: 0.3027 - accuracy: 0.8878 - val_loss: 0.3302 - val_accuracy: 0.8738\n",
      "Epoch 5/30\n",
      "1719/1719 [==============================] - 8s 5ms/step - loss: 0.2843 - accuracy: 0.8942 - val_loss: 0.3295 - val_accuracy: 0.8874\n",
      "Epoch 6/30\n",
      "1719/1719 [==============================] - 8s 4ms/step - loss: 0.2710 - accuracy: 0.8984 - val_loss: 0.3193 - val_accuracy: 0.8854\n",
      "Epoch 7/30\n",
      "1719/1719 [==============================] - 8s 5ms/step - loss: 0.2586 - accuracy: 0.9022 - val_loss: 0.3327 - val_accuracy: 0.8840\n",
      "Epoch 8/30\n",
      "1719/1719 [==============================] - 8s 5ms/step - loss: 0.2461 - accuracy: 0.9084 - val_loss: 0.3281 - val_accuracy: 0.8884\n",
      "Epoch 9/30\n",
      "1719/1719 [==============================] - 8s 5ms/step - loss: 0.2340 - accuracy: 0.9117 - val_loss: 0.3478 - val_accuracy: 0.8784\n",
      "Epoch 10/30\n",
      "1719/1719 [==============================] - 8s 5ms/step - loss: 0.2260 - accuracy: 0.9146 - val_loss: 0.3348 - val_accuracy: 0.8896\n",
      "Epoch 11/30\n",
      "1719/1719 [==============================] - 8s 5ms/step - loss: 0.2181 - accuracy: 0.9176 - val_loss: 0.3267 - val_accuracy: 0.8972\n",
      "Epoch 12/30\n",
      "1719/1719 [==============================] - 8s 5ms/step - loss: 0.2088 - accuracy: 0.9212 - val_loss: 0.3210 - val_accuracy: 0.8926\n",
      "Epoch 13/30\n",
      "1719/1719 [==============================] - 8s 5ms/step - loss: 0.2003 - accuracy: 0.9235 - val_loss: 0.3370 - val_accuracy: 0.8916\n",
      "Epoch 14/30\n",
      "1719/1719 [==============================] - 8s 5ms/step - loss: 0.1944 - accuracy: 0.9264 - val_loss: 0.3713 - val_accuracy: 0.8846\n",
      "Epoch 15/30\n",
      "1719/1719 [==============================] - 8s 5ms/step - loss: 0.1869 - accuracy: 0.9287 - val_loss: 0.3536 - val_accuracy: 0.8894\n",
      "Epoch 16/30\n",
      "1719/1719 [==============================] - 8s 5ms/step - loss: 0.1819 - accuracy: 0.9303 - val_loss: 0.3570 - val_accuracy: 0.8880\n",
      "Epoch 17/30\n",
      "1719/1719 [==============================] - 8s 5ms/step - loss: 0.1770 - accuracy: 0.9330 - val_loss: 0.3589 - val_accuracy: 0.8932\n",
      "Epoch 18/30\n",
      "1719/1719 [==============================] - 8s 5ms/step - loss: 0.1708 - accuracy: 0.9348 - val_loss: 0.3914 - val_accuracy: 0.8834\n",
      "Epoch 19/30\n",
      "1719/1719 [==============================] - 8s 5ms/step - loss: 0.1656 - accuracy: 0.9369 - val_loss: 0.3582 - val_accuracy: 0.8914\n",
      "Epoch 20/30\n",
      "1719/1719 [==============================] - 8s 5ms/step - loss: 0.1604 - accuracy: 0.9385 - val_loss: 0.3710 - val_accuracy: 0.8938\n",
      "Epoch 21/30\n",
      "1719/1719 [==============================] - 8s 5ms/step - loss: 0.1545 - accuracy: 0.9405 - val_loss: 0.3615 - val_accuracy: 0.8934\n",
      "Epoch 22/30\n",
      "1719/1719 [==============================] - 8s 5ms/step - loss: 0.1499 - accuracy: 0.9419 - val_loss: 0.3813 - val_accuracy: 0.8936\n",
      "Epoch 23/30\n",
      "1719/1719 [==============================] - 9s 5ms/step - loss: 0.1469 - accuracy: 0.9434 - val_loss: 0.3876 - val_accuracy: 0.8922\n",
      "Epoch 24/30\n",
      "1719/1719 [==============================] - 8s 5ms/step - loss: 0.1413 - accuracy: 0.9460 - val_loss: 0.4208 - val_accuracy: 0.8946\n",
      "Epoch 25/30\n",
      "1719/1719 [==============================] - 8s 5ms/step - loss: 0.1416 - accuracy: 0.9449 - val_loss: 0.3941 - val_accuracy: 0.8948\n",
      "Epoch 26/30\n",
      "1719/1719 [==============================] - 8s 5ms/step - loss: 0.1364 - accuracy: 0.9473 - val_loss: 0.4390 - val_accuracy: 0.8892\n",
      "Epoch 27/30\n",
      "1719/1719 [==============================] - 8s 5ms/step - loss: 0.1325 - accuracy: 0.9487 - val_loss: 0.4365 - val_accuracy: 0.8892\n",
      "Epoch 28/30\n",
      "1719/1719 [==============================] - 8s 5ms/step - loss: 0.1282 - accuracy: 0.9509 - val_loss: 0.3903 - val_accuracy: 0.8922\n",
      "Epoch 29/30\n",
      "1719/1719 [==============================] - 8s 5ms/step - loss: 0.1254 - accuracy: 0.9522 - val_loss: 0.4322 - val_accuracy: 0.8868\n",
      "Epoch 30/30\n",
      "1719/1719 [==============================] - 8s 5ms/step - loss: 0.1250 - accuracy: 0.9525 - val_loss: 0.4132 - val_accuracy: 0.8940\n"
     ]
    }
   ],
   "source": [
    "history_1 = model_1.fit(X_train,\n",
    "                       y_train,\n",
    "                       epochs=30,\n",
    "                       validation_data=(X_valid,y_valid))"
   ]
  },
  {
   "cell_type": "code",
   "execution_count": 61,
   "id": "f7e69a92",
   "metadata": {},
   "outputs": [],
   "source": [
    "def plot_history(history):\n",
    "    pd.DataFrame(history.history).plot(\n",
    "    figsize=(16,10),\n",
    "    xlim=[history.epoch[0], history.epoch[-1]],\n",
    "    ylim=[0,1],\n",
    "    grid=True,\n",
    "    xlabel=\"Epoch\",\n",
    "    style=['r--','r--','b-','b-*'])\n",
    "    plt.show;"
   ]
  },
  {
   "cell_type": "code",
   "execution_count": 62,
   "id": "b1c8a45e",
   "metadata": {},
   "outputs": [
    {
     "data": {
      "text/plain": [
       "29"
      ]
     },
     "execution_count": 62,
     "metadata": {},
     "output_type": "execute_result"
    }
   ],
   "source": [
    "history_1.epoch[-1]"
   ]
  },
  {
   "cell_type": "code",
   "execution_count": 63,
   "id": "f34c4726",
   "metadata": {},
   "outputs": [
    {
     "data": {
      "image/png": "[encoded data removed]",
      "text/plain": [
       "<Figure size 1600x1000 with 1 Axes>"
      ]
     },
     "metadata": {},
     "output_type": "display_data"
    }
   ],
   "source": [
    "plot_history(history_1)"
   ]
  },
  {
   "cell_type": "code",
   "execution_count": 84,
   "id": "67286655",
   "metadata": {},
   "outputs": [
    {
     "name": "stdout",
     "output_type": "stream",
     "text": [
      "313/313 [==============================] - 1s 2ms/step - loss: 0.4500 - accuracy: 0.8900\n"
     ]
    },
    {
     "data": {
      "text/plain": [
       "[0.4500061869621277, 0.8899999856948853]"
      ]
     },
     "execution_count": 84,
     "metadata": {},
     "output_type": "execute_result"
    }
   ],
   "source": [
    "model_1.evaluate(X_test,y_test)"
   ]
  },
  {
   "cell_type": "code",
   "execution_count": 86,
   "id": "7ae31bac",
   "metadata": {},
   "outputs": [
    {
     "name": "stdout",
     "output_type": "stream",
     "text": [
      "1/1 [==============================] - 0s 21ms/step\n"
     ]
    },
    {
     "data": {
      "text/plain": [
       "array([[0., 0., 0., 0., 0., 0., 0., 0., 0., 1.],\n",
       "       [0., 0., 1., 0., 0., 0., 0., 0., 0., 0.],\n",
       "       [0., 1., 0., 0., 0., 0., 0., 0., 0., 0.],\n",
       "       [0., 1., 0., 0., 0., 0., 0., 0., 0., 0.]], dtype=float32)"
      ]
     },
     "execution_count": 86,
     "metadata": {},
     "output_type": "execute_result"
    }
   ],
   "source": [
    "X_new = X_test[:4]\n",
    "y_proba = model_1.predict(X_new)\n",
    "y_proba.round(2)\n"
   ]
  },
  {
   "cell_type": "code",
   "execution_count": 87,
   "id": "52dd74ee",
   "metadata": {},
   "outputs": [
    {
     "data": {
      "text/plain": [
       "array([9, 2, 1, 1], dtype=int64)"
      ]
     },
     "execution_count": 87,
     "metadata": {},
     "output_type": "execute_result"
    }
   ],
   "source": [
    "y_pred = y_proba.argmax(axis=-1)\n",
    "y_pred"
   ]
  },
  {
   "cell_type": "code",
   "execution_count": 88,
   "id": "e08e0aea",
   "metadata": {},
   "outputs": [
    {
     "data": {
      "text/plain": [
       "array(['Ankle boot', 'Pullover', 'Trouser', 'Trouser'], dtype='<U11')"
      ]
     },
     "execution_count": 88,
     "metadata": {},
     "output_type": "execute_result"
    }
   ],
   "source": [
    "np.array(class_names)[y_pred]"
   ]
  },
  {
   "cell_type": "code",
   "execution_count": 89,
   "id": "2c78e932",
   "metadata": {},
   "outputs": [
    {
     "data": {
      "text/plain": [
       "array([9, 2, 1, 1], dtype=uint8)"
      ]
     },
     "execution_count": 89,
     "metadata": {},
     "output_type": "execute_result"
    }
   ],
   "source": [
    "y_new = y_test[:4]\n",
    "y_new"
   ]
  },
  {
   "cell_type": "code",
   "execution_count": 90,
   "id": "8fd2dba2",
   "metadata": {},
   "outputs": [
    {
     "name": "stderr",
     "output_type": "stream",
     "text": [
      "WARNING:absl:Found untraced functions such as _update_step_xla while saving (showing 1 of 1). These functions will not be directly callable after loading.\n"
     ]
    },
    {
     "name": "stdout",
     "output_type": "stream",
     "text": [
      "INFO:tensorflow:Assets written to: Fashion_mnist_tf_model_1\\assets\n"
     ]
    },
    {
     "name": "stderr",
     "output_type": "stream",
     "text": [
      "INFO:tensorflow:Assets written to: Fashion_mnist_tf_model_1\\assets\n"
     ]
    }
   ],
   "source": [
    "model_1.save(\"Fashion_mnist_tf_model_1\",save_format=\"tf\")"
   ]
  },
  {
   "cell_type": "code",
   "execution_count": 92,
   "id": "0cd4e452",
   "metadata": {},
   "outputs": [],
   "source": [
    "model_1.save(\"Fashion_mnist_tf_model_1\",save_format=\"h5\")"
   ]
  },
  {
   "cell_type": "markdown",
   "id": "2389944f",
   "metadata": {},
   "source": [
    "### Using Callbacks\n"
   ]
  },
  {
   "cell_type": "code",
   "execution_count": 99,
   "id": "73f75f5b",
   "metadata": {},
   "outputs": [
    {
     "name": "stdout",
     "output_type": "stream",
     "text": [
      "Model: \"sequential_2\"\n",
      "_________________________________________________________________\n",
      " Layer (type)                Output Shape              Param #   \n",
      "=================================================================\n",
      " flatten_2 (Flatten)         (None, 784)               0         \n",
      "                                                                 \n",
      " dense_6 (Dense)             (None, 300)               235500    \n",
      "                                                                 \n",
      " dense_7 (Dense)             (None, 100)               30100     \n",
      "                                                                 \n",
      " dense_8 (Dense)             (None, 50)                5050      \n",
      "                                                                 \n",
      " dense_9 (Dense)             (None, 10)                510       \n",
      "                                                                 \n",
      "=================================================================\n",
      "Total params: 271,160\n",
      "Trainable params: 271,160\n",
      "Non-trainable params: 0\n",
      "_________________________________________________________________\n"
     ]
    }
   ],
   "source": [
    "tf.random.set_seed(123)\n",
    "\n",
    "model_2 = tf.keras.Sequential([\n",
    "    tf.keras.layers.Flatten(input_shape = INPUT_SIZE),\n",
    "    tf.keras.layers.Dense(300, activation='relu'),\n",
    "    tf.keras.layers.Dense(100, activation='relu'),\n",
    "    tf.keras.layers.Dense(50, activation='relu'),\n",
    "    tf.keras.layers.Dense(10, activation='softmax')\n",
    "])\n",
    "\n",
    "model_2.summary()"
   ]
  },
  {
   "cell_type": "code",
   "execution_count": 101,
   "id": "925c349d",
   "metadata": {},
   "outputs": [],
   "source": [
    "model_2.compile(loss=\"sparse_categorical_crossentropy\",\n",
    "               optimizer=tf.keras.optimizers.Adam(learning_rate=1e-4),\n",
    "               metrics=['accuracy'])"
   ]
  },
  {
   "cell_type": "code",
   "execution_count": 102,
   "id": "37b10a4d",
   "metadata": {},
   "outputs": [],
   "source": [
    "checkpoints_cb = tf.keras.callbacks.ModelCheckpoint(\"my_checkpoints\",\n",
    "                                                   save_weights_only=True)\n",
    "\n",
    "early_Stopping_cb = tf.keras.callbacks.EarlyStopping(patience=5,\n",
    "                                                    restore_best_weights=True)\n"
   ]
  },
  {
   "cell_type": "code",
   "execution_count": 103,
   "id": "e09b00c9",
   "metadata": {},
   "outputs": [
    {
     "name": "stdout",
     "output_type": "stream",
     "text": [
      "Epoch 1/50\n",
      "1719/1719 [==============================] - 9s 5ms/step - loss: 0.6528 - accuracy: 0.7851 - val_loss: 0.4432 - val_accuracy: 0.8414\n",
      "Epoch 2/50\n",
      "1719/1719 [==============================] - 8s 5ms/step - loss: 0.4262 - accuracy: 0.8509 - val_loss: 0.3999 - val_accuracy: 0.8588\n",
      "Epoch 3/50\n",
      "1719/1719 [==============================] - 8s 5ms/step - loss: 0.3846 - accuracy: 0.8653 - val_loss: 0.3773 - val_accuracy: 0.8616\n",
      "Epoch 4/50\n",
      "1719/1719 [==============================] - 8s 5ms/step - loss: 0.3576 - accuracy: 0.8728 - val_loss: 0.3527 - val_accuracy: 0.8732\n",
      "Epoch 5/50\n",
      "1719/1719 [==============================] - 8s 5ms/step - loss: 0.3377 - accuracy: 0.8804 - val_loss: 0.3448 - val_accuracy: 0.8730\n",
      "Epoch 6/50\n",
      "1719/1719 [==============================] - 8s 5ms/step - loss: 0.3232 - accuracy: 0.8855 - val_loss: 0.3374 - val_accuracy: 0.8782\n",
      "Epoch 7/50\n",
      "1719/1719 [==============================] - 8s 5ms/step - loss: 0.3071 - accuracy: 0.8913 - val_loss: 0.3228 - val_accuracy: 0.8842\n",
      "Epoch 8/50\n",
      "1719/1719 [==============================] - 8s 5ms/step - loss: 0.2961 - accuracy: 0.8942 - val_loss: 0.3567 - val_accuracy: 0.8720\n",
      "Epoch 9/50\n",
      "1719/1719 [==============================] - 8s 5ms/step - loss: 0.2850 - accuracy: 0.8970 - val_loss: 0.3356 - val_accuracy: 0.8772\n",
      "Epoch 10/50\n",
      "1719/1719 [==============================] - 8s 5ms/step - loss: 0.2750 - accuracy: 0.9005 - val_loss: 0.3284 - val_accuracy: 0.8828\n",
      "Epoch 11/50\n",
      "1719/1719 [==============================] - 8s 5ms/step - loss: 0.2672 - accuracy: 0.9034 - val_loss: 0.3140 - val_accuracy: 0.8872\n",
      "Epoch 12/50\n",
      "1719/1719 [==============================] - 8s 5ms/step - loss: 0.2573 - accuracy: 0.9068 - val_loss: 0.3091 - val_accuracy: 0.8836\n",
      "Epoch 13/50\n",
      "1719/1719 [==============================] - 8s 5ms/step - loss: 0.2493 - accuracy: 0.9086 - val_loss: 0.3136 - val_accuracy: 0.8874\n",
      "Epoch 14/50\n",
      "1719/1719 [==============================] - 8s 5ms/step - loss: 0.2421 - accuracy: 0.9122 - val_loss: 0.3226 - val_accuracy: 0.8808\n",
      "Epoch 15/50\n",
      "1719/1719 [==============================] - 8s 5ms/step - loss: 0.2339 - accuracy: 0.9154 - val_loss: 0.3159 - val_accuracy: 0.8894\n",
      "Epoch 16/50\n",
      "1719/1719 [==============================] - 8s 5ms/step - loss: 0.2289 - accuracy: 0.9157 - val_loss: 0.3179 - val_accuracy: 0.8874\n",
      "Epoch 17/50\n",
      "1719/1719 [==============================] - 8s 5ms/step - loss: 0.2227 - accuracy: 0.9182 - val_loss: 0.3131 - val_accuracy: 0.8882\n",
      "Epoch 18/50\n",
      "1719/1719 [==============================] - 8s 5ms/step - loss: 0.2163 - accuracy: 0.9213 - val_loss: 0.3166 - val_accuracy: 0.8858\n",
      "Epoch 19/50\n",
      "1719/1719 [==============================] - 8s 5ms/step - loss: 0.2096 - accuracy: 0.9232 - val_loss: 0.2986 - val_accuracy: 0.8894\n",
      "Epoch 20/50\n",
      "1719/1719 [==============================] - 8s 5ms/step - loss: 0.2045 - accuracy: 0.9255 - val_loss: 0.3156 - val_accuracy: 0.8848\n",
      "Epoch 21/50\n",
      "1719/1719 [==============================] - 8s 5ms/step - loss: 0.1984 - accuracy: 0.9277 - val_loss: 0.3172 - val_accuracy: 0.8894\n",
      "Epoch 22/50\n",
      "1719/1719 [==============================] - 8s 5ms/step - loss: 0.1938 - accuracy: 0.9301 - val_loss: 0.3183 - val_accuracy: 0.8858\n",
      "Epoch 23/50\n",
      "1719/1719 [==============================] - 8s 5ms/step - loss: 0.1882 - accuracy: 0.9309 - val_loss: 0.3060 - val_accuracy: 0.8932\n",
      "Epoch 24/50\n",
      "1719/1719 [==============================] - 8s 5ms/step - loss: 0.1824 - accuracy: 0.9334 - val_loss: 0.3111 - val_accuracy: 0.8930\n",
      "Epoch 25/50\n",
      "1719/1719 [==============================] - 8s 5ms/step - loss: 0.1779 - accuracy: 0.9349 - val_loss: 0.3175 - val_accuracy: 0.8896\n",
      "Epoch 26/50\n",
      "1719/1719 [==============================] - 8s 5ms/step - loss: 0.1731 - accuracy: 0.9370 - val_loss: 0.3177 - val_accuracy: 0.8934\n",
      "Epoch 27/50\n",
      "1719/1719 [==============================] - 8s 5ms/step - loss: 0.1675 - accuracy: 0.9389 - val_loss: 0.3199 - val_accuracy: 0.8882\n",
      "Epoch 28/50\n",
      "1719/1719 [==============================] - 8s 5ms/step - loss: 0.1625 - accuracy: 0.9407 - val_loss: 0.3330 - val_accuracy: 0.8898\n",
      "Epoch 29/50\n",
      "1719/1719 [==============================] - 8s 5ms/step - loss: 0.1592 - accuracy: 0.9423 - val_loss: 0.3677 - val_accuracy: 0.8780\n",
      "Epoch 30/50\n",
      "1719/1719 [==============================] - 8s 5ms/step - loss: 0.1546 - accuracy: 0.9440 - val_loss: 0.3169 - val_accuracy: 0.8912\n",
      "Epoch 31/50\n",
      "1719/1719 [==============================] - 9s 5ms/step - loss: 0.1496 - accuracy: 0.9449 - val_loss: 0.3417 - val_accuracy: 0.8898\n",
      "Epoch 32/50\n",
      "1719/1719 [==============================] - 9s 5ms/step - loss: 0.1465 - accuracy: 0.9465 - val_loss: 0.3385 - val_accuracy: 0.8952\n",
      "Epoch 33/50\n",
      "1719/1719 [==============================] - 8s 5ms/step - loss: 0.1408 - accuracy: 0.9501 - val_loss: 0.3369 - val_accuracy: 0.8882\n",
      "Epoch 34/50\n",
      "1719/1719 [==============================] - 8s 5ms/step - loss: 0.1371 - accuracy: 0.9513 - val_loss: 0.3436 - val_accuracy: 0.8928\n",
      "Epoch 35/50\n",
      "1719/1719 [==============================] - 8s 5ms/step - loss: 0.1331 - accuracy: 0.9516 - val_loss: 0.3463 - val_accuracy: 0.8980\n",
      "Epoch 36/50\n",
      "1719/1719 [==============================] - 8s 5ms/step - loss: 0.1296 - accuracy: 0.9537 - val_loss: 0.3498 - val_accuracy: 0.8914\n",
      "Epoch 37/50\n",
      "1719/1719 [==============================] - 8s 5ms/step - loss: 0.1269 - accuracy: 0.9540 - val_loss: 0.3519 - val_accuracy: 0.8940\n",
      "Epoch 38/50\n",
      "1719/1719 [==============================] - 8s 5ms/step - loss: 0.1231 - accuracy: 0.9566 - val_loss: 0.3802 - val_accuracy: 0.8908\n",
      "Epoch 39/50\n",
      "1719/1719 [==============================] - 8s 5ms/step - loss: 0.1194 - accuracy: 0.9571 - val_loss: 0.3559 - val_accuracy: 0.8922\n",
      "Epoch 40/50\n",
      "1719/1719 [==============================] - 8s 5ms/step - loss: 0.1154 - accuracy: 0.9586 - val_loss: 0.3615 - val_accuracy: 0.8906\n",
      "Epoch 41/50\n",
      "1719/1719 [==============================] - 8s 5ms/step - loss: 0.1124 - accuracy: 0.9588 - val_loss: 0.3699 - val_accuracy: 0.8948\n",
      "Epoch 42/50\n",
      "1719/1719 [==============================] - 8s 5ms/step - loss: 0.1098 - accuracy: 0.9607 - val_loss: 0.4090 - val_accuracy: 0.8832\n",
      "Epoch 43/50\n",
      "1719/1719 [==============================] - 8s 5ms/step - loss: 0.1057 - accuracy: 0.9626 - val_loss: 0.3742 - val_accuracy: 0.8934\n",
      "Epoch 44/50\n",
      "1719/1719 [==============================] - 8s 5ms/step - loss: 0.1029 - accuracy: 0.9632 - val_loss: 0.3863 - val_accuracy: 0.8914\n",
      "Epoch 45/50\n",
      "1719/1719 [==============================] - 8s 5ms/step - loss: 0.1017 - accuracy: 0.9625 - val_loss: 0.3855 - val_accuracy: 0.8946\n",
      "Epoch 46/50\n",
      "1719/1719 [==============================] - 8s 5ms/step - loss: 0.0977 - accuracy: 0.9646 - val_loss: 0.3795 - val_accuracy: 0.8956\n",
      "Epoch 47/50\n",
      "1719/1719 [==============================] - 8s 5ms/step - loss: 0.0944 - accuracy: 0.9656 - val_loss: 0.3990 - val_accuracy: 0.8910\n",
      "Epoch 48/50\n",
      "1719/1719 [==============================] - 8s 5ms/step - loss: 0.0905 - accuracy: 0.9676 - val_loss: 0.3980 - val_accuracy: 0.8928\n",
      "Epoch 49/50\n",
      "1719/1719 [==============================] - 8s 5ms/step - loss: 0.0892 - accuracy: 0.9682 - val_loss: 0.4028 - val_accuracy: 0.8944\n",
      "Epoch 50/50\n",
      "1719/1719 [==============================] - 8s 5ms/step - loss: 0.0864 - accuracy: 0.9691 - val_loss: 0.4015 - val_accuracy: 0.8926\n"
     ]
    }
   ],
   "source": [
    "history_2 = model_2.fit(X_train,\n",
    "                       y_train,\n",
    "                       epochs=50,\n",
    "                       validation_data=(X_valid,y_valid))"
   ]
  },
  {
   "cell_type": "code",
   "execution_count": 104,
   "id": "a3e49458",
   "metadata": {},
   "outputs": [
    {
     "data": {
      "image/png": "[encoded data removed]",
      "text/plain": [
       "<Figure size 1600x1000 with 1 Axes>"
      ]
     },
     "metadata": {},
     "output_type": "display_data"
    }
   ],
   "source": [
    "plot_history(history_2)"
   ]
  },
  {
   "cell_type": "code",
   "execution_count": 105,
   "id": "cbb31401",
   "metadata": {},
   "outputs": [
    {
     "name": "stdout",
     "output_type": "stream",
     "text": [
      "313/313 [==============================] - 1s 2ms/step - loss: 0.4326 - accuracy: 0.8882\n"
     ]
    },
    {
     "data": {
      "text/plain": [
       "[0.43257153034210205, 0.8881999850273132]"
      ]
     },
     "execution_count": 105,
     "metadata": {},
     "output_type": "execute_result"
    }
   ],
   "source": [
    "model_2.evaluate(X_test,y_test)"
   ]
  },
  {
   "cell_type": "markdown",
   "id": "6fc0d310",
   "metadata": {},
   "source": [
    "### Fine Tuning Hyperparameters"
   ]
  },
  {
   "cell_type": "code",
   "execution_count": 107,
   "id": "baac77c4",
   "metadata": {},
   "outputs": [],
   "source": [
    "def build_model(hp):\n",
    "    n_hidden = hp.Int(\"n_hidden\", min_value=0, max_value=8, default=2)\n",
    "    n_neurons = hp.Int(\"n_neurons\", min_value=16, max_value=256)\n",
    "    learning_rate = hp.Float(\"learning_rate\", min_value=1e-4, max_value=1e-2, sampling=\"log\")\n",
    "    optimizer = hp.Choice(\"optimizer\", values=[\"sgd\", \"adam\"])\n",
    "    \n",
    "    if optimizer==\"sgd\":\n",
    "        optimizer = tf.keras.optimizers.SGD(learning_rate=learning_rate)\n",
    "    else:\n",
    "        optimizer = tf.keras.optimizers.Adam(learning_rate=learning_rate)\n",
    "        \n",
    "    model = tf.keras.Sequential()\n",
    "    model.add(tf.keras.layers.Flatten())\n",
    "    \n",
    "    for _ in range(n_hidden):\n",
    "        model.add(tf.keras.layers.Dense(n_neurons, activation='relu'))\n",
    "        \n",
    "    model.add(tf.keras.layers.Dense(10, activation=\"softmax\"))\n",
    "    \n",
    "    model.compile(loss=\"sparse_categorical_crossentropy\",\n",
    "                 optimizer=optimizer,\n",
    "                 metrics=['accuracy'])\n",
    "    \n",
    "    return model\n",
    "    "
   ]
  },
  {
   "cell_type": "code",
   "execution_count": 109,
   "id": "0215dcc9",
   "metadata": {},
   "outputs": [
    {
     "name": "stdout",
     "output_type": "stream",
     "text": [
      "Trial 5 Complete [00h 00m 26s]\n",
      "val_accuracy: 0.8578000068664551\n",
      "\n",
      "Best val_accuracy So Far: 0.8578000068664551\n",
      "Total elapsed time: 00h 03m 02s\n",
      "INFO:tensorflow:Oracle triggered exit\n"
     ]
    },
    {
     "name": "stderr",
     "output_type": "stream",
     "text": [
      "INFO:tensorflow:Oracle triggered exit\n"
     ]
    }
   ],
   "source": [
    "random_search_tuner = kt.RandomSearch(\n",
    "    build_model,\n",
    "    objective=\"val_accuracy\",\n",
    "    max_trials=5,\n",
    "    overwrite=True,\n",
    "    directory=\"my_fashion_mnist\",\n",
    "    project_name=\"my_rnd_search\",\n",
    "    seed=123)\n",
    "\n",
    "random_search_tuner.search(X_train,y_train,epochs=10,\n",
    "                          validation_data=(X_valid,y_valid))"
   ]
  },
  {
   "cell_type": "markdown",
   "id": "61ecd3ae",
   "metadata": {},
   "source": [
    "Not the result we wanted but we move on"
   ]
  },
  {
   "cell_type": "code",
   "execution_count": null,
   "id": "4d3623f9",
   "metadata": {},
   "outputs": [],
   "source": []
  }
 ],
 "metadata": {
  "kernelspec": {
   "display_name": "Python 3 (ipykernel)",
   "language": "python",
   "name": "python3"
  },
  "language_info": {
   "codemirror_mode": {
    "name": "ipython",
    "version": 3
   },
   "file_extension": ".py",
   "mimetype": "text/x-python",
   "name": "python",
   "nbconvert_exporter": "python",
   "pygments_lexer": "ipython3",
   "version": "3.9.13"
  }
 },
 "nbformat": 4,
 "nbformat_minor": 5
}
